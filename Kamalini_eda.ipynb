{
 "cells": [
  {
   "cell_type": "markdown",
   "id": "d150ff19",
   "metadata": {},
   "source": [
    "## Title: Data Analytics\n",
    "## Author: Kamalini Pradhan\n",
    "## Date: 01/29/2024\n",
    "## Purpose: Learn data analytics using jupyter"
   ]
  },
  {
   "cell_type": "code",
   "execution_count": null,
   "id": "6f0ed253",
   "metadata": {},
   "outputs": [],
   "source": [
    "import matplotlib.pyplot as plt\n",
    "import pandas as pd\n",
    "import seaborn as sns"
   ]
  },
  {
   "cell_type": "markdown",
   "id": "33cc7b53",
   "metadata": {},
   "source": [
    "### Step-1: Load the Iris dataset into DataFrame"
   ]
  },
  {
   "cell_type": "code",
   "execution_count": null,
   "id": "14966df5",
   "metadata": {},
   "outputs": [],
   "source": [
    "df = sns.load_dataset('iris')\n",
    "\n",
    "# Inspect first rows of the DataFrame\n",
    "print(df.head())"
   ]
  },
  {
   "cell_type": "markdown",
   "id": "a7f5ec07",
   "metadata": {},
   "source": [
    "### Step 2: Initial Data Inspection"
   ]
  },
  {
   "cell_type": "code",
   "execution_count": null,
   "id": "b9144ee3",
   "metadata": {},
   "outputs": [],
   "source": [
    "print(df.head(10))\n",
    "print(df.shape)\n",
    "print(df.dtypes)"
   ]
  },
  {
   "cell_type": "markdown",
   "id": "227256f0",
   "metadata": {},
   "source": [
    "### Step 3: Initial Descriptive Statistics"
   ]
  },
  {
   "cell_type": "code",
   "execution_count": null,
   "id": "7c77a24e",
   "metadata": {},
   "outputs": [],
   "source": [
    "print(df.describe())"
   ]
  },
  {
   "cell_type": "markdown",
   "id": "0c2584a8",
   "metadata": {},
   "source": [
    "### Step 4: Initial Data Distribution for Numerical Columns"
   ]
  },
  {
   "cell_type": "code",
   "execution_count": null,
   "id": "db1bcae6",
   "metadata": {},
   "outputs": [],
   "source": [
    "# Inspect histogram by numerical column\n",
    "df['sepal_length'].hist()\n",
    "\n",
    "# Inspect histograms for all numerical columns\n",
    "df.hist()\n",
    "\n",
    "# Show all plots\n",
    "plt.show()"
   ]
  }
 ],
 "metadata": {
  "kernelspec": {
   "display_name": "Python 3 (ipykernel)",
   "language": "python",
   "name": "python3"
  },
  "language_info": {
   "codemirror_mode": {
    "name": "ipython",
    "version": 3
   },
   "file_extension": ".py",
   "mimetype": "text/x-python",
   "name": "python",
   "nbconvert_exporter": "python",
   "pygments_lexer": "ipython3",
   "version": "3.12.1"
  }
 },
 "nbformat": 4,
 "nbformat_minor": 5
}
